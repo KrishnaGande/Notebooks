{
  "nbformat": 4,
  "nbformat_minor": 0,
  "metadata": {
    "colab": {
      "name": "Python.ipynb",
      "provenance": []
    },
    "kernelspec": {
      "name": "python3",
      "display_name": "Python 3"
    }
  },
  "cells": [
    {
      "cell_type": "code",
      "metadata": {
        "id": "JVKk6bWEziUV",
        "colab_type": "code",
        "colab": {}
      },
      "source": [
        ""
      ],
      "execution_count": 167,
      "outputs": []
    },
    {
      "cell_type": "markdown",
      "metadata": {
        "id": "6e8egbdHz5CW",
        "colab_type": "text"
      },
      "source": [
        " # Python Crash Course"
      ]
    },
    {
      "cell_type": "code",
      "metadata": {
        "id": "sHlonjpu0bN7",
        "colab_type": "code",
        "colab": {}
      },
      "source": [
        ""
      ],
      "execution_count": 167,
      "outputs": []
    },
    {
      "cell_type": "markdown",
      "metadata": {
        "id": "er4sCc2E0cJ3",
        "colab_type": "text"
      },
      "source": [
        " ## Data Types"
      ]
    },
    {
      "cell_type": "markdown",
      "metadata": {
        "id": "zM7sSjC80fu8",
        "colab_type": "text"
      },
      "source": [
        " ## Numbers"
      ]
    },
    {
      "cell_type": "code",
      "metadata": {
        "id": "zu-dQWp90pTg",
        "colab_type": "code",
        "colab": {
          "base_uri": "https://localhost:8080/",
          "height": 35
        },
        "outputId": "de89abc8-7de5-41ca-bd05-05905e2289cb"
      },
      "source": [
        "2+2"
      ],
      "execution_count": 168,
      "outputs": [
        {
          "output_type": "execute_result",
          "data": {
            "text/plain": [
              "4"
            ]
          },
          "metadata": {
            "tags": []
          },
          "execution_count": 168
        }
      ]
    },
    {
      "cell_type": "code",
      "metadata": {
        "id": "33IgfSDA0udQ",
        "colab_type": "code",
        "colab": {
          "base_uri": "https://localhost:8080/",
          "height": 35
        },
        "outputId": "8b497c71-3bcf-400c-ef80-9735aed9a1d5"
      },
      "source": [
        "type(2)"
      ],
      "execution_count": 169,
      "outputs": [
        {
          "output_type": "execute_result",
          "data": {
            "text/plain": [
              "int"
            ]
          },
          "metadata": {
            "tags": []
          },
          "execution_count": 169
        }
      ]
    },
    {
      "cell_type": "code",
      "metadata": {
        "id": "PS63N1ND0ugz",
        "colab_type": "code",
        "colab": {
          "base_uri": "https://localhost:8080/",
          "height": 35
        },
        "outputId": "d33f3040-40f4-432c-8852-a781b24a05d5"
      },
      "source": [
        "2*3"
      ],
      "execution_count": 170,
      "outputs": [
        {
          "output_type": "execute_result",
          "data": {
            "text/plain": [
              "6"
            ]
          },
          "metadata": {
            "tags": []
          },
          "execution_count": 170
        }
      ]
    },
    {
      "cell_type": "code",
      "metadata": {
        "id": "SCboUGuu0ukQ",
        "colab_type": "code",
        "colab": {
          "base_uri": "https://localhost:8080/",
          "height": 35
        },
        "outputId": "a98fc114-ec65-4cdb-b181-c13fa2fa6a2d"
      },
      "source": [
        "2-3"
      ],
      "execution_count": 171,
      "outputs": [
        {
          "output_type": "execute_result",
          "data": {
            "text/plain": [
              "-1"
            ]
          },
          "metadata": {
            "tags": []
          },
          "execution_count": 171
        }
      ]
    },
    {
      "cell_type": "code",
      "metadata": {
        "id": "5DqLdlNc0unv",
        "colab_type": "code",
        "colab": {
          "base_uri": "https://localhost:8080/",
          "height": 35
        },
        "outputId": "e9d03324-d31c-4242-da93-38b6ecb931d4"
      },
      "source": [
        "type(2-3)"
      ],
      "execution_count": 172,
      "outputs": [
        {
          "output_type": "execute_result",
          "data": {
            "text/plain": [
              "int"
            ]
          },
          "metadata": {
            "tags": []
          },
          "execution_count": 172
        }
      ]
    },
    {
      "cell_type": "code",
      "metadata": {
        "id": "PSfeIbLj0uq5",
        "colab_type": "code",
        "colab": {
          "base_uri": "https://localhost:8080/",
          "height": 35
        },
        "outputId": "9f42e7f3-6571-42f4-9123-e1b4d2907caa"
      },
      "source": [
        "abs(2-3)"
      ],
      "execution_count": 173,
      "outputs": [
        {
          "output_type": "execute_result",
          "data": {
            "text/plain": [
              "1"
            ]
          },
          "metadata": {
            "tags": []
          },
          "execution_count": 173
        }
      ]
    },
    {
      "cell_type": "code",
      "metadata": {
        "id": "2ovdt21Q0uu3",
        "colab_type": "code",
        "colab": {
          "base_uri": "https://localhost:8080/",
          "height": 35
        },
        "outputId": "1e32ced1-d162-4243-e7dc-5e9fa088b88b"
      },
      "source": [
        "2/3"
      ],
      "execution_count": 174,
      "outputs": [
        {
          "output_type": "execute_result",
          "data": {
            "text/plain": [
              "0.6666666666666666"
            ]
          },
          "metadata": {
            "tags": []
          },
          "execution_count": 174
        }
      ]
    },
    {
      "cell_type": "code",
      "metadata": {
        "id": "SvK74cSn0uy_",
        "colab_type": "code",
        "colab": {
          "base_uri": "https://localhost:8080/",
          "height": 35
        },
        "outputId": "00a9a3ba-8293-472d-fbd9-52da3922ee9f"
      },
      "source": [
        "5/2"
      ],
      "execution_count": 175,
      "outputs": [
        {
          "output_type": "execute_result",
          "data": {
            "text/plain": [
              "2.5"
            ]
          },
          "metadata": {
            "tags": []
          },
          "execution_count": 175
        }
      ]
    },
    {
      "cell_type": "code",
      "metadata": {
        "id": "qBVfATe71BN4",
        "colab_type": "code",
        "colab": {
          "base_uri": "https://localhost:8080/",
          "height": 35
        },
        "outputId": "dc07f63e-11a8-4f23-eb05-3fb563745375"
      },
      "source": [
        "type(5/2)"
      ],
      "execution_count": 176,
      "outputs": [
        {
          "output_type": "execute_result",
          "data": {
            "text/plain": [
              "float"
            ]
          },
          "metadata": {
            "tags": []
          },
          "execution_count": 176
        }
      ]
    },
    {
      "cell_type": "code",
      "metadata": {
        "id": "eQcwEYoP1BRT",
        "colab_type": "code",
        "colab": {
          "base_uri": "https://localhost:8080/",
          "height": 35
        },
        "outputId": "7295a9f1-7248-4683-bffd-8c9452faca41"
      },
      "source": [
        "int(5/2)"
      ],
      "execution_count": 177,
      "outputs": [
        {
          "output_type": "execute_result",
          "data": {
            "text/plain": [
              "2"
            ]
          },
          "metadata": {
            "tags": []
          },
          "execution_count": 177
        }
      ]
    },
    {
      "cell_type": "code",
      "metadata": {
        "id": "mm6GOTEu1BVB",
        "colab_type": "code",
        "colab": {
          "base_uri": "https://localhost:8080/",
          "height": 35
        },
        "outputId": "38065355-5364-4e34-9ebe-62c595d6bc6e"
      },
      "source": [
        "5//2"
      ],
      "execution_count": 178,
      "outputs": [
        {
          "output_type": "execute_result",
          "data": {
            "text/plain": [
              "2"
            ]
          },
          "metadata": {
            "tags": []
          },
          "execution_count": 178
        }
      ]
    },
    {
      "cell_type": "code",
      "metadata": {
        "id": "Bi9exz351BYt",
        "colab_type": "code",
        "colab": {
          "base_uri": "https://localhost:8080/",
          "height": 35
        },
        "outputId": "8cf433ff-bac8-41bc-f13c-c01649fbb993"
      },
      "source": [
        "5%2"
      ],
      "execution_count": 179,
      "outputs": [
        {
          "output_type": "execute_result",
          "data": {
            "text/plain": [
              "1"
            ]
          },
          "metadata": {
            "tags": []
          },
          "execution_count": 179
        }
      ]
    },
    {
      "cell_type": "code",
      "metadata": {
        "id": "7zpZi_B11Bb4",
        "colab_type": "code",
        "colab": {
          "base_uri": "https://localhost:8080/",
          "height": 35
        },
        "outputId": "7ee70141-2b81-4656-b438-85eb27779f2d"
      },
      "source": [
        "2**3"
      ],
      "execution_count": 180,
      "outputs": [
        {
          "output_type": "execute_result",
          "data": {
            "text/plain": [
              "8"
            ]
          },
          "metadata": {
            "tags": []
          },
          "execution_count": 180
        }
      ]
    },
    {
      "cell_type": "code",
      "metadata": {
        "id": "IDR7nUQF1Bf_",
        "colab_type": "code",
        "colab": {
          "base_uri": "https://localhost:8080/",
          "height": 35
        },
        "outputId": "e4d8e23c-9d95-485a-f075-01b8431f1570"
      },
      "source": [
        "3**2"
      ],
      "execution_count": 181,
      "outputs": [
        {
          "output_type": "execute_result",
          "data": {
            "text/plain": [
              "9"
            ]
          },
          "metadata": {
            "tags": []
          },
          "execution_count": 181
        }
      ]
    },
    {
      "cell_type": "code",
      "metadata": {
        "id": "FfGEi_pa1BjJ",
        "colab_type": "code",
        "colab": {
          "base_uri": "https://localhost:8080/",
          "height": 35
        },
        "outputId": "f931dd38-0ca1-4faa-8436-2dccdccc3962"
      },
      "source": [
        "1+1.2"
      ],
      "execution_count": 182,
      "outputs": [
        {
          "output_type": "execute_result",
          "data": {
            "text/plain": [
              "2.2"
            ]
          },
          "metadata": {
            "tags": []
          },
          "execution_count": 182
        }
      ]
    },
    {
      "cell_type": "code",
      "metadata": {
        "id": "8nrnA93l1BnF",
        "colab_type": "code",
        "colab": {
          "base_uri": "https://localhost:8080/",
          "height": 35
        },
        "outputId": "9a706f2c-b843-49b5-c4a3-8dba8ac236a5"
      },
      "source": [
        "5/2"
      ],
      "execution_count": 183,
      "outputs": [
        {
          "output_type": "execute_result",
          "data": {
            "text/plain": [
              "2.5"
            ]
          },
          "metadata": {
            "tags": []
          },
          "execution_count": 183
        }
      ]
    },
    {
      "cell_type": "code",
      "metadata": {
        "id": "YdF7rVeZ1Bqp",
        "colab_type": "code",
        "colab": {
          "base_uri": "https://localhost:8080/",
          "height": 35
        },
        "outputId": "5bc132ce-a61d-4bec-b376-a655f07f860b"
      },
      "source": [
        "5//2.0"
      ],
      "execution_count": 184,
      "outputs": [
        {
          "output_type": "execute_result",
          "data": {
            "text/plain": [
              "2.0"
            ]
          },
          "metadata": {
            "tags": []
          },
          "execution_count": 184
        }
      ]
    },
    {
      "cell_type": "code",
      "metadata": {
        "id": "vzMyEFII1pZ9",
        "colab_type": "code",
        "colab": {}
      },
      "source": [
        ""
      ],
      "execution_count": 184,
      "outputs": []
    },
    {
      "cell_type": "markdown",
      "metadata": {
        "id": "E9fOGFQx1ua1",
        "colab_type": "text"
      },
      "source": [
        "# Variable Assignment"
      ]
    },
    {
      "cell_type": "markdown",
      "metadata": {
        "id": "pR02GV-f2O9T",
        "colab_type": "text"
      },
      "source": [
        "## Valid declaration"
      ]
    },
    {
      "cell_type": "code",
      "metadata": {
        "id": "gu0Ycg5w1pdM",
        "colab_type": "code",
        "colab": {}
      },
      "source": [
        "var_name = 2"
      ],
      "execution_count": 185,
      "outputs": []
    },
    {
      "cell_type": "code",
      "metadata": {
        "id": "aK4qW3pr2V_q",
        "colab_type": "code",
        "colab": {}
      },
      "source": [
        "varname_=2"
      ],
      "execution_count": 186,
      "outputs": []
    },
    {
      "cell_type": "code",
      "metadata": {
        "id": "ShT8xTYA2b7e",
        "colab_type": "code",
        "colab": {}
      },
      "source": [
        "_varname = 2"
      ],
      "execution_count": 187,
      "outputs": []
    },
    {
      "cell_type": "code",
      "metadata": {
        "id": "Tw9K1huo2nnK",
        "colab_type": "code",
        "colab": {}
      },
      "source": [
        "varname12 = 2"
      ],
      "execution_count": 188,
      "outputs": []
    },
    {
      "cell_type": "code",
      "metadata": {
        "id": "C0JokYDk1pmr",
        "colab_type": "code",
        "colab": {}
      },
      "source": [
        "_Varname = 2"
      ],
      "execution_count": 189,
      "outputs": []
    },
    {
      "cell_type": "markdown",
      "metadata": {
        "id": "lbzEn0J_2G9n",
        "colab_type": "text"
      },
      "source": [
        " ### Error declaration"
      ]
    },
    {
      "cell_type": "code",
      "metadata": {
        "id": "ZcdoUFSb1pga",
        "colab_type": "code",
        "colab": {
          "base_uri": "https://localhost:8080/",
          "height": 131
        },
        "outputId": "5377f806-76a0-4d57-c735-f6f36a81e7e4"
      },
      "source": [
        "var name =2"
      ],
      "execution_count": 190,
      "outputs": [
        {
          "output_type": "error",
          "ename": "SyntaxError",
          "evalue": "ignored",
          "traceback": [
            "\u001b[0;36m  File \u001b[0;32m\"<ipython-input-190-46e26c1b9aa7>\"\u001b[0;36m, line \u001b[0;32m1\u001b[0m\n\u001b[0;31m    var name =2\u001b[0m\n\u001b[0m           ^\u001b[0m\n\u001b[0;31mSyntaxError\u001b[0m\u001b[0;31m:\u001b[0m invalid syntax\n"
          ]
        }
      ]
    },
    {
      "cell_type": "code",
      "metadata": {
        "id": "MI_sJaaE1pjZ",
        "colab_type": "code",
        "colab": {}
      },
      "source": [
        "12varname = 2"
      ],
      "execution_count": null,
      "outputs": []
    },
    {
      "cell_type": "code",
      "metadata": {
        "id": "MQZPzPUL1pq2",
        "colab_type": "code",
        "colab": {}
      },
      "source": [
        "type(var_name)"
      ],
      "execution_count": null,
      "outputs": []
    },
    {
      "cell_type": "code",
      "metadata": {
        "id": "e91yrUKv2zR2",
        "colab_type": "code",
        "colab": {}
      },
      "source": [
        "float_var = 2.0"
      ],
      "execution_count": null,
      "outputs": []
    },
    {
      "cell_type": "code",
      "metadata": {
        "id": "Ol6InDPT2zVl",
        "colab_type": "code",
        "colab": {}
      },
      "source": [
        "type(float_var)"
      ],
      "execution_count": null,
      "outputs": []
    },
    {
      "cell_type": "code",
      "metadata": {
        "id": "_H2K0DkQ2zZk",
        "colab_type": "code",
        "colab": {}
      },
      "source": [
        "a = 1\n",
        "b = 3.9\n",
        "c = a + b\n",
        "c"
      ],
      "execution_count": null,
      "outputs": []
    },
    {
      "cell_type": "code",
      "metadata": {
        "id": "Jbyq-Pyq2zea",
        "colab_type": "code",
        "colab": {}
      },
      "source": [
        "type(c)"
      ],
      "execution_count": null,
      "outputs": []
    },
    {
      "cell_type": "code",
      "metadata": {
        "id": "5iuieSnw2zh6",
        "colab_type": "code",
        "colab": {}
      },
      "source": [
        "float = 2"
      ],
      "execution_count": null,
      "outputs": []
    },
    {
      "cell_type": "code",
      "metadata": {
        "id": "fCjRXtsx2zl7",
        "colab_type": "code",
        "colab": {}
      },
      "source": [
        "float (float)"
      ],
      "execution_count": null,
      "outputs": []
    },
    {
      "cell_type": "code",
      "metadata": {
        "id": "MJAu70DY2zpw",
        "colab_type": "code",
        "colab": {}
      },
      "source": [
        "float(var_name)"
      ],
      "execution_count": null,
      "outputs": []
    },
    {
      "cell_type": "code",
      "metadata": {
        "id": "-1so3BGk2zve",
        "colab_type": "code",
        "colab": {}
      },
      "source": [
        "del float"
      ],
      "execution_count": null,
      "outputs": []
    },
    {
      "cell_type": "code",
      "metadata": {
        "id": "l_gOzTGR2z1_",
        "colab_type": "code",
        "colab": {}
      },
      "source": [
        "float (var_name)"
      ],
      "execution_count": null,
      "outputs": []
    },
    {
      "cell_type": "code",
      "metadata": {
        "id": "6mhDbSNq2z6k",
        "colab_type": "code",
        "colab": {}
      },
      "source": [
        "float(var_name)"
      ],
      "execution_count": null,
      "outputs": []
    },
    {
      "cell_type": "code",
      "metadata": {
        "id": "fziLbHJa2z9j",
        "colab_type": "code",
        "colab": {}
      },
      "source": [
        "# Reserved Keywords : float,int,double,for,if,else"
      ],
      "execution_count": null,
      "outputs": []
    },
    {
      "cell_type": "code",
      "metadata": {
        "id": "cz-J_p7N20BX",
        "colab_type": "code",
        "colab": {}
      },
      "source": [
        ""
      ],
      "execution_count": null,
      "outputs": []
    },
    {
      "cell_type": "markdown",
      "metadata": {
        "id": "kpqm9th74Pid",
        "colab_type": "text"
      },
      "source": [
        " ## String"
      ]
    },
    {
      "cell_type": "code",
      "metadata": {
        "id": "1gVNtYfv20E2",
        "colab_type": "code",
        "colab": {}
      },
      "source": [
        "# Representation\n",
        "# '  '\n",
        "# \"  \""
      ],
      "execution_count": null,
      "outputs": []
    },
    {
      "cell_type": "code",
      "metadata": {
        "id": "DK0snDjH20If",
        "colab_type": "code",
        "colab": {}
      },
      "source": [
        "'This is a string'"
      ],
      "execution_count": null,
      "outputs": []
    },
    {
      "cell_type": "code",
      "metadata": {
        "id": "H0YeorNB20OA",
        "colab_type": "code",
        "colab": {}
      },
      "source": [
        "type('This is a string')"
      ],
      "execution_count": null,
      "outputs": []
    },
    {
      "cell_type": "code",
      "metadata": {
        "id": "whw8Q7W620Rx",
        "colab_type": "code",
        "colab": {}
      },
      "source": [
        "type (\"this is a string\")"
      ],
      "execution_count": null,
      "outputs": []
    },
    {
      "cell_type": "code",
      "metadata": {
        "id": "3hc7c9r420WI",
        "colab_type": "code",
        "colab": {}
      },
      "source": [
        "string = ' this is a string'"
      ],
      "execution_count": null,
      "outputs": []
    },
    {
      "cell_type": "code",
      "metadata": {
        "id": "3pRMXBQc20Zv",
        "colab_type": "code",
        "colab": {}
      },
      "source": [
        "string"
      ],
      "execution_count": null,
      "outputs": []
    },
    {
      "cell_type": "code",
      "metadata": {
        "id": "GABKNqdQ20cw",
        "colab_type": "code",
        "colab": {}
      },
      "source": [
        "string = \"this is a string\""
      ],
      "execution_count": null,
      "outputs": []
    },
    {
      "cell_type": "code",
      "metadata": {
        "id": "a1N9PBbo20g3",
        "colab_type": "code",
        "colab": {}
      },
      "source": [
        "string"
      ],
      "execution_count": null,
      "outputs": []
    },
    {
      "cell_type": "code",
      "metadata": {
        "id": "3Erg1Tpu20NF",
        "colab_type": "code",
        "colab": {}
      },
      "source": [
        "print (string)"
      ],
      "execution_count": null,
      "outputs": []
    },
    {
      "cell_type": "code",
      "metadata": {
        "id": "v2sHYkSM1Buc",
        "colab_type": "code",
        "colab": {}
      },
      "source": [
        "string = 'This is Krishna's notebook'"
      ],
      "execution_count": null,
      "outputs": []
    },
    {
      "cell_type": "code",
      "metadata": {
        "id": "cI_KUb141BxO",
        "colab_type": "code",
        "colab": {}
      },
      "source": [
        " string = \"This is Krishna's notebook\""
      ],
      "execution_count": null,
      "outputs": []
    },
    {
      "cell_type": "code",
      "metadata": {
        "id": "2G1ZMv5h5ng0",
        "colab_type": "code",
        "colab": {}
      },
      "source": [
        "print (string)"
      ],
      "execution_count": null,
      "outputs": []
    },
    {
      "cell_type": "code",
      "metadata": {
        "id": "7XDZpFBM5npB",
        "colab_type": "code",
        "colab": {}
      },
      "source": [
        "string = 'This is Krishna\"s notebook'"
      ],
      "execution_count": null,
      "outputs": []
    },
    {
      "cell_type": "code",
      "metadata": {
        "id": "axBwxFlR5nuc",
        "colab_type": "code",
        "colab": {}
      },
      "source": [
        "print (string)"
      ],
      "execution_count": null,
      "outputs": []
    },
    {
      "cell_type": "code",
      "metadata": {
        "id": "bMlie35n5nxn",
        "colab_type": "code",
        "colab": {}
      },
      "source": [
        " string = 'This is Krishna\\'s notebook'"
      ],
      "execution_count": null,
      "outputs": []
    },
    {
      "cell_type": "code",
      "metadata": {
        "id": "kQLXst5Z5n1a",
        "colab_type": "code",
        "colab": {}
      },
      "source": [
        "print (string)"
      ],
      "execution_count": null,
      "outputs": []
    },
    {
      "cell_type": "code",
      "metadata": {
        "id": "zjrebVT45n62",
        "colab_type": "code",
        "colab": {}
      },
      "source": [
        "string = r'This is Krishna\\'s notebook'"
      ],
      "execution_count": null,
      "outputs": []
    },
    {
      "cell_type": "code",
      "metadata": {
        "id": "UsuHMrje5n-s",
        "colab_type": "code",
        "colab": {}
      },
      "source": [
        "print (string)"
      ],
      "execution_count": null,
      "outputs": []
    },
    {
      "cell_type": "code",
      "metadata": {
        "id": "Wdeb0Gb65oDC",
        "colab_type": "code",
        "colab": {}
      },
      "source": [
        " string = \"This is Krishna's notebook\"+' 2nd' + \" lesson\"\n",
        "print (string)"
      ],
      "execution_count": null,
      "outputs": []
    },
    {
      "cell_type": "code",
      "metadata": {
        "id": "onVwyhTB5oHQ",
        "colab_type": "code",
        "colab": {}
      },
      "source": [
        "  string = \"This is Krishna's {}nd notebook\".format(2)\n",
        "print (string)"
      ],
      "execution_count": null,
      "outputs": []
    },
    {
      "cell_type": "code",
      "metadata": {
        "id": "j5UbBFZ35oL0",
        "colab_type": "code",
        "colab": {}
      },
      "source": [
        ""
      ],
      "execution_count": null,
      "outputs": []
    },
    {
      "cell_type": "markdown",
      "metadata": {
        "id": "8NUjkc557bXg",
        "colab_type": "text"
      },
      "source": [
        "## List"
      ]
    },
    {
      "cell_type": "code",
      "metadata": {
        "id": "OdSW8ozA5oPu",
        "colab_type": "code",
        "colab": {}
      },
      "source": [
        "# []- List,() -Tuple,{}- Set"
      ],
      "execution_count": null,
      "outputs": []
    },
    {
      "cell_type": "code",
      "metadata": {
        "id": "3LrNZaRB5oSc",
        "colab_type": "code",
        "colab": {}
      },
      "source": [
        "x = [1,2,3,4,5]"
      ],
      "execution_count": null,
      "outputs": []
    },
    {
      "cell_type": "code",
      "metadata": {
        "id": "87XA4lHr5oWt",
        "colab_type": "code",
        "colab": {}
      },
      "source": [
        "print (x)"
      ],
      "execution_count": null,
      "outputs": []
    },
    {
      "cell_type": "code",
      "metadata": {
        "id": "_21x4VqI5obF",
        "colab_type": "code",
        "colab": {}
      },
      "source": [
        "x"
      ],
      "execution_count": null,
      "outputs": []
    },
    {
      "cell_type": "code",
      "metadata": {
        "id": "OCSLLTZo5oeP",
        "colab_type": "code",
        "colab": {}
      },
      "source": [
        "x = [1,2,'three',4.0]\n",
        "x"
      ],
      "execution_count": null,
      "outputs": []
    },
    {
      "cell_type": "code",
      "metadata": {
        "id": "7lnt9o1P5ohu",
        "colab_type": "code",
        "colab": {}
      },
      "source": [
        "x.append(5)"
      ],
      "execution_count": null,
      "outputs": []
    },
    {
      "cell_type": "code",
      "metadata": {
        "id": "_HLzdhlc5olE",
        "colab_type": "code",
        "colab": {}
      },
      "source": [
        "x"
      ],
      "execution_count": null,
      "outputs": []
    },
    {
      "cell_type": "code",
      "metadata": {
        "id": "cIWzEE_95osL",
        "colab_type": "code",
        "colab": {}
      },
      "source": [
        "x.pop()\n",
        "x"
      ],
      "execution_count": null,
      "outputs": []
    },
    {
      "cell_type": "code",
      "metadata": {
        "id": "kV53qdjH5oxP",
        "colab_type": "code",
        "colab": {}
      },
      "source": [
        "x.insert(0,'One')"
      ],
      "execution_count": null,
      "outputs": []
    },
    {
      "cell_type": "code",
      "metadata": {
        "id": "3tyNCjMQ5o0X",
        "colab_type": "code",
        "colab": {}
      },
      "source": [
        "x"
      ],
      "execution_count": null,
      "outputs": []
    },
    {
      "cell_type": "code",
      "metadata": {
        "id": "svZz-7tR5o5N",
        "colab_type": "code",
        "colab": {}
      },
      "source": [
        "x[:2]"
      ],
      "execution_count": null,
      "outputs": []
    },
    {
      "cell_type": "code",
      "metadata": {
        "id": "Wo-7dOKH5o_v",
        "colab_type": "code",
        "colab": {}
      },
      "source": [
        ""
      ],
      "execution_count": null,
      "outputs": []
    },
    {
      "cell_type": "markdown",
      "metadata": {
        "id": "4vW62Mes8qEV",
        "colab_type": "text"
      },
      "source": [
        "## Set"
      ]
    },
    {
      "cell_type": "code",
      "metadata": {
        "id": "swajq13j5pDX",
        "colab_type": "code",
        "colab": {}
      },
      "source": [
        "l=[1,1,2,2]"
      ],
      "execution_count": null,
      "outputs": []
    },
    {
      "cell_type": "code",
      "metadata": {
        "id": "L2Fpx0oa5pHi",
        "colab_type": "code",
        "colab": {}
      },
      "source": [
        "type(l)"
      ],
      "execution_count": null,
      "outputs": []
    },
    {
      "cell_type": "code",
      "metadata": {
        "id": "Z_znmKLj5pKw",
        "colab_type": "code",
        "colab": {}
      },
      "source": [
        "l"
      ],
      "execution_count": null,
      "outputs": []
    },
    {
      "cell_type": "code",
      "metadata": {
        "id": "4180zilV5pPg",
        "colab_type": "code",
        "colab": {}
      },
      "source": [
        "s = {1,1,2,2}"
      ],
      "execution_count": null,
      "outputs": []
    },
    {
      "cell_type": "code",
      "metadata": {
        "id": "FHiyUasN5pTs",
        "colab_type": "code",
        "colab": {}
      },
      "source": [
        "s"
      ],
      "execution_count": null,
      "outputs": []
    },
    {
      "cell_type": "code",
      "metadata": {
        "id": "D3ZMoioj5pXI",
        "colab_type": "code",
        "colab": {}
      },
      "source": [
        "set(l)"
      ],
      "execution_count": null,
      "outputs": []
    },
    {
      "cell_type": "code",
      "metadata": {
        "id": "v4rFJxIe5peB",
        "colab_type": "code",
        "colab": {}
      },
      "source": [
        "s = {1,'one',2.0,'three'}\n",
        "s"
      ],
      "execution_count": null,
      "outputs": []
    },
    {
      "cell_type": "code",
      "metadata": {
        "id": "Le_tTKGw5pjw",
        "colab_type": "code",
        "colab": {}
      },
      "source": [
        "s[0]"
      ],
      "execution_count": null,
      "outputs": []
    },
    {
      "cell_type": "code",
      "metadata": {
        "id": "UK6gcHcm5po_",
        "colab_type": "code",
        "colab": {}
      },
      "source": [
        "l = [1,'one',2.0,'three']"
      ],
      "execution_count": null,
      "outputs": []
    },
    {
      "cell_type": "code",
      "metadata": {
        "id": "zstpc_wy5pvI",
        "colab_type": "code",
        "colab": {}
      },
      "source": [
        "l[0]"
      ],
      "execution_count": null,
      "outputs": []
    },
    {
      "cell_type": "code",
      "metadata": {
        "id": "LwmV23yh5pzi",
        "colab_type": "code",
        "colab": {}
      },
      "source": [
        "l[1]"
      ],
      "execution_count": null,
      "outputs": []
    },
    {
      "cell_type": "code",
      "metadata": {
        "id": "OBU_3-l65ptB",
        "colab_type": "code",
        "colab": {}
      },
      "source": [
        ""
      ],
      "execution_count": null,
      "outputs": []
    },
    {
      "cell_type": "markdown",
      "metadata": {
        "id": "XTnXuFkDAiwG",
        "colab_type": "text"
      },
      "source": [
        "## Tuple"
      ]
    },
    {
      "cell_type": "code",
      "metadata": {
        "id": "BWW2VpBi5pii",
        "colab_type": "code",
        "colab": {}
      },
      "source": [
        "# ()"
      ],
      "execution_count": null,
      "outputs": []
    },
    {
      "cell_type": "code",
      "metadata": {
        "id": "6H17-g2d5pbR",
        "colab_type": "code",
        "colab": {}
      },
      "source": [
        "t=(1,'two','three')"
      ],
      "execution_count": null,
      "outputs": []
    },
    {
      "cell_type": "code",
      "metadata": {
        "id": "yFHGcruF5o8y",
        "colab_type": "code",
        "colab": {}
      },
      "source": [
        "t"
      ],
      "execution_count": null,
      "outputs": []
    },
    {
      "cell_type": "code",
      "metadata": {
        "id": "mGhcmT1Z5oo-",
        "colab_type": "code",
        "colab": {}
      },
      "source": [
        "t[0]"
      ],
      "execution_count": null,
      "outputs": []
    },
    {
      "cell_type": "code",
      "metadata": {
        "id": "6pYm9cTo5n5V",
        "colab_type": "code",
        "colab": {}
      },
      "source": [
        "t[2]"
      ],
      "execution_count": null,
      "outputs": []
    },
    {
      "cell_type": "code",
      "metadata": {
        "id": "XVD-dC1mA0LJ",
        "colab_type": "code",
        "colab": {}
      },
      "source": [
        "t[2]=3"
      ],
      "execution_count": null,
      "outputs": []
    },
    {
      "cell_type": "code",
      "metadata": {
        "id": "JHTgOt4NA33H",
        "colab_type": "code",
        "colab": {}
      },
      "source": [
        "t[-2:]"
      ],
      "execution_count": null,
      "outputs": []
    },
    {
      "cell_type": "code",
      "metadata": {
        "id": "eI4zua1cA-qQ",
        "colab_type": "code",
        "colab": {}
      },
      "source": [
        ""
      ],
      "execution_count": null,
      "outputs": []
    },
    {
      "cell_type": "markdown",
      "metadata": {
        "id": "zW2KWifPBL9p",
        "colab_type": "text"
      },
      "source": [
        "## Dictionary"
      ]
    },
    {
      "cell_type": "code",
      "metadata": {
        "id": "0a-3w0PuA-4j",
        "colab_type": "code",
        "colab": {}
      },
      "source": [
        "# {}"
      ],
      "execution_count": null,
      "outputs": []
    },
    {
      "cell_type": "code",
      "metadata": {
        "id": "SOdtYETHA_FL",
        "colab_type": "code",
        "colab": {}
      },
      "source": [
        "# key:value pair"
      ],
      "execution_count": null,
      "outputs": []
    },
    {
      "cell_type": "code",
      "metadata": {
        "id": "MNf4N9_KA_TN",
        "colab_type": "code",
        "colab": {}
      },
      "source": [
        "d = { 'key1': 'value1','key2':'value2'}\n",
        "type(d)"
      ],
      "execution_count": null,
      "outputs": []
    },
    {
      "cell_type": "code",
      "metadata": {
        "id": "THBmi_gyA_n9",
        "colab_type": "code",
        "colab": {}
      },
      "source": [
        "d"
      ],
      "execution_count": null,
      "outputs": []
    },
    {
      "cell_type": "code",
      "metadata": {
        "id": "Nvq0PL5sA_t2",
        "colab_type": "code",
        "colab": {}
      },
      "source": [
        "d={1:'One','two':2}"
      ],
      "execution_count": null,
      "outputs": []
    },
    {
      "cell_type": "code",
      "metadata": {
        "id": "L_tRQ196A_RK",
        "colab_type": "code",
        "colab": {}
      },
      "source": [
        "d"
      ],
      "execution_count": null,
      "outputs": []
    },
    {
      "cell_type": "code",
      "metadata": {
        "id": "UZMW8BnKA_O5",
        "colab_type": "code",
        "colab": {}
      },
      "source": [
        "d.keys()"
      ],
      "execution_count": null,
      "outputs": []
    },
    {
      "cell_type": "code",
      "metadata": {
        "id": "3DayoSGQA_MX",
        "colab_type": "code",
        "colab": {}
      },
      "source": [
        "d.values()"
      ],
      "execution_count": null,
      "outputs": []
    },
    {
      "cell_type": "code",
      "metadata": {
        "id": "UIl9yFz8A_Kb",
        "colab_type": "code",
        "colab": {}
      },
      "source": [
        "d.items()"
      ],
      "execution_count": null,
      "outputs": []
    },
    {
      "cell_type": "code",
      "metadata": {
        "id": "cSyOCwXmA_Cn",
        "colab_type": "code",
        "colab": {}
      },
      "source": [
        "d['three']= 3.0"
      ],
      "execution_count": null,
      "outputs": []
    },
    {
      "cell_type": "code",
      "metadata": {
        "id": "WsbqKB8cA_AS",
        "colab_type": "code",
        "colab": {}
      },
      "source": [
        "d"
      ],
      "execution_count": null,
      "outputs": []
    },
    {
      "cell_type": "code",
      "metadata": {
        "id": "QuatHQSIA-9W",
        "colab_type": "code",
        "colab": {}
      },
      "source": [
        "d['three'] = 3"
      ],
      "execution_count": null,
      "outputs": []
    },
    {
      "cell_type": "code",
      "metadata": {
        "id": "GAvEsZ9cCDfU",
        "colab_type": "code",
        "colab": {}
      },
      "source": [
        "d\n"
      ],
      "execution_count": null,
      "outputs": []
    },
    {
      "cell_type": "code",
      "metadata": {
        "id": "rMg1InDGCEH7",
        "colab_type": "code",
        "colab": {}
      },
      "source": [
        ""
      ],
      "execution_count": null,
      "outputs": []
    },
    {
      "cell_type": "markdown",
      "metadata": {
        "id": "Lc8kwJ7qLZFX",
        "colab_type": "text"
      },
      "source": [
        "## Boolean and Comparison Operator"
      ]
    },
    {
      "cell_type": "code",
      "metadata": {
        "id": "qLKUvMyoCu8y",
        "colab_type": "code",
        "colab": {}
      },
      "source": [
        "True"
      ],
      "execution_count": null,
      "outputs": []
    },
    {
      "cell_type": "code",
      "metadata": {
        "id": "8HM3N1lpCvVn",
        "colab_type": "code",
        "colab": {}
      },
      "source": [
        "False"
      ],
      "execution_count": null,
      "outputs": []
    },
    {
      "cell_type": "code",
      "metadata": {
        "id": "cmpRYmXqCvaP",
        "colab_type": "code",
        "colab": {}
      },
      "source": [
        "1>2"
      ],
      "execution_count": null,
      "outputs": []
    },
    {
      "cell_type": "code",
      "metadata": {
        "id": "xWQvCzu-Cvd9",
        "colab_type": "code",
        "colab": {}
      },
      "source": [
        "2>1"
      ],
      "execution_count": null,
      "outputs": []
    },
    {
      "cell_type": "code",
      "metadata": {
        "id": "y5OW1nsgCvhU",
        "colab_type": "code",
        "colab": {}
      },
      "source": [
        "10 == 12"
      ],
      "execution_count": null,
      "outputs": []
    },
    {
      "cell_type": "code",
      "metadata": {
        "id": "YHjHUsBFCvm-",
        "colab_type": "code",
        "colab": {}
      },
      "source": [
        "10 = 2"
      ],
      "execution_count": null,
      "outputs": []
    },
    {
      "cell_type": "code",
      "metadata": {
        "id": "rLFGgjhfCvtf",
        "colab_type": "code",
        "colab": {}
      },
      "source": [
        "10 == 10"
      ],
      "execution_count": null,
      "outputs": []
    },
    {
      "cell_type": "code",
      "metadata": {
        "id": "DpKI3jW-Cvy4",
        "colab_type": "code",
        "colab": {}
      },
      "source": [
        "10 != 11"
      ],
      "execution_count": null,
      "outputs": []
    },
    {
      "cell_type": "code",
      "metadata": {
        "id": "TN9pMWCZCv_q",
        "colab_type": "code",
        "colab": {}
      },
      "source": [
        "None == None"
      ],
      "execution_count": null,
      "outputs": []
    },
    {
      "cell_type": "code",
      "metadata": {
        "id": "GTAYg_e4CwF-",
        "colab_type": "code",
        "colab": {}
      },
      "source": [
        "None != None"
      ],
      "execution_count": null,
      "outputs": []
    },
    {
      "cell_type": "code",
      "metadata": {
        "id": "fkniNDRTCwPC",
        "colab_type": "code",
        "colab": {}
      },
      "source": [
        "type(None)"
      ],
      "execution_count": null,
      "outputs": []
    },
    {
      "cell_type": "code",
      "metadata": {
        "id": "k82khQdFCwVi",
        "colab_type": "code",
        "colab": {}
      },
      "source": [
        "'string' == 'string'"
      ],
      "execution_count": null,
      "outputs": []
    },
    {
      "cell_type": "code",
      "metadata": {
        "id": "gX7CBZqqCwcC",
        "colab_type": "code",
        "colab": {}
      },
      "source": [
        "'string ' == 'string'"
      ],
      "execution_count": null,
      "outputs": []
    },
    {
      "cell_type": "code",
      "metadata": {
        "id": "cQ_0e_OkCwiY",
        "colab_type": "code",
        "colab": {}
      },
      "source": [
        "'String' == 'string'"
      ],
      "execution_count": null,
      "outputs": []
    },
    {
      "cell_type": "code",
      "metadata": {
        "id": "H06xW0AhCwfn",
        "colab_type": "code",
        "colab": {}
      },
      "source": [
        ""
      ],
      "execution_count": null,
      "outputs": []
    },
    {
      "cell_type": "markdown",
      "metadata": {
        "id": "pPv4JHd0MTLi",
        "colab_type": "text"
      },
      "source": [
        "## Logical Operator"
      ]
    },
    {
      "cell_type": "code",
      "metadata": {
        "id": "SW3lBBevCwZl",
        "colab_type": "code",
        "colab": {}
      },
      "source": [
        "# and,or"
      ],
      "execution_count": null,
      "outputs": []
    },
    {
      "cell_type": "code",
      "metadata": {
        "id": "ZqWO9KfICwSo",
        "colab_type": "code",
        "colab": {}
      },
      "source": [
        "10 or 8"
      ],
      "execution_count": null,
      "outputs": []
    },
    {
      "cell_type": "code",
      "metadata": {
        "id": "CnR5-aOhCwL9",
        "colab_type": "code",
        "colab": {}
      },
      "source": [
        "0 or 1"
      ],
      "execution_count": null,
      "outputs": []
    },
    {
      "cell_type": "code",
      "metadata": {
        "id": "3hJxKffZCwJX",
        "colab_type": "code",
        "colab": {}
      },
      "source": [
        "3 or 2"
      ],
      "execution_count": null,
      "outputs": []
    },
    {
      "cell_type": "code",
      "metadata": {
        "id": "-eK9I_MbCwDN",
        "colab_type": "code",
        "colab": {}
      },
      "source": [
        "(1 == 2) or (1==1)"
      ],
      "execution_count": null,
      "outputs": []
    },
    {
      "cell_type": "code",
      "metadata": {
        "id": "5QPgOfS1Cv2L",
        "colab_type": "code",
        "colab": {}
      },
      "source": [
        "False and True"
      ],
      "execution_count": null,
      "outputs": []
    },
    {
      "cell_type": "code",
      "metadata": {
        "id": "JFNFcXW7CvwT",
        "colab_type": "code",
        "colab": {}
      },
      "source": [
        "True and True"
      ],
      "execution_count": null,
      "outputs": []
    },
    {
      "cell_type": "code",
      "metadata": {
        "id": "qf3yScCMCvr3",
        "colab_type": "code",
        "colab": {}
      },
      "source": [
        "False and True"
      ],
      "execution_count": null,
      "outputs": []
    },
    {
      "cell_type": "code",
      "metadata": {
        "id": "R-fvIssuCvkv",
        "colab_type": "code",
        "colab": {}
      },
      "source": [
        "(1>2) and (3>2) or (7>5)"
      ],
      "execution_count": null,
      "outputs": []
    },
    {
      "cell_type": "code",
      "metadata": {
        "id": "oLHC6-3nM-k7",
        "colab_type": "code",
        "colab": {}
      },
      "source": [
        ""
      ],
      "execution_count": null,
      "outputs": []
    },
    {
      "cell_type": "code",
      "metadata": {
        "id": "DlZYm9KMNIvD",
        "colab_type": "code",
        "colab": {}
      },
      "source": [
        ""
      ],
      "execution_count": null,
      "outputs": []
    },
    {
      "cell_type": "code",
      "metadata": {
        "id": "Hej1q5HyNJML",
        "colab_type": "code",
        "colab": {}
      },
      "source": [
        ""
      ],
      "execution_count": null,
      "outputs": []
    },
    {
      "cell_type": "code",
      "metadata": {
        "id": "0ju5UKX8NJof",
        "colab_type": "code",
        "colab": {}
      },
      "source": [
        ""
      ],
      "execution_count": null,
      "outputs": []
    },
    {
      "cell_type": "code",
      "metadata": {
        "id": "pg2cTD0BNLKu",
        "colab_type": "code",
        "colab": {}
      },
      "source": [
        ""
      ],
      "execution_count": null,
      "outputs": []
    },
    {
      "cell_type": "markdown",
      "metadata": {
        "id": "ggzI1KIiNL_O",
        "colab_type": "text"
      },
      "source": [
        "## If,Else,Elif"
      ]
    },
    {
      "cell_type": "code",
      "metadata": {
        "id": "FeugHtI_NLDp",
        "colab_type": "code",
        "colab": {}
      },
      "source": [
        "if (1>2):\n",
        "  print('True')"
      ],
      "execution_count": null,
      "outputs": []
    },
    {
      "cell_type": "code",
      "metadata": {
        "id": "kCKoZHCMNK_b",
        "colab_type": "code",
        "colab": {}
      },
      "source": [
        "if False:\n",
        "  print('this is true')"
      ],
      "execution_count": null,
      "outputs": []
    },
    {
      "cell_type": "code",
      "metadata": {
        "id": "VpW0pBqPNK7N",
        "colab_type": "code",
        "colab": {}
      },
      "source": [
        "(1>2)"
      ],
      "execution_count": null,
      "outputs": []
    },
    {
      "cell_type": "code",
      "metadata": {
        "id": "v9Csv4HTNK2m",
        "colab_type": "code",
        "colab": {}
      },
      "source": [
        "if (2>1):\n",
        "  print('True')"
      ],
      "execution_count": null,
      "outputs": []
    },
    {
      "cell_type": "code",
      "metadata": {
        "id": "RRtUTbe9NKxz",
        "colab_type": "code",
        "colab": {}
      },
      "source": [
        "if True:\n",
        "  print('True')"
      ],
      "execution_count": null,
      "outputs": []
    },
    {
      "cell_type": "code",
      "metadata": {
        "id": "S8HhIB1_NKtJ",
        "colab_type": "code",
        "colab": {}
      },
      "source": [
        "if(1>2):\n",
        "  print('1>2')\n",
        "else:\n",
        "  print('1 is not greater then 2')"
      ],
      "execution_count": null,
      "outputs": []
    },
    {
      "cell_type": "code",
      "metadata": {
        "id": "hGODRDc4NKn8",
        "colab_type": "code",
        "colab": {}
      },
      "source": [
        "age = 10\n",
        "if age >= 20 and age <40:\n",
        "  print('I am young')\n",
        "elif age < 20:\n",
        "  print('I am kid')\n",
        "else:\n",
        "  print('I am old')"
      ],
      "execution_count": null,
      "outputs": []
    },
    {
      "cell_type": "code",
      "metadata": {
        "id": "Z1FvvT5DNKje",
        "colab_type": "code",
        "colab": {}
      },
      "source": [
        ""
      ],
      "execution_count": null,
      "outputs": []
    },
    {
      "cell_type": "markdown",
      "metadata": {
        "id": "7V6L2BHZOuIo",
        "colab_type": "text"
      },
      "source": [
        "## For and  While Loop"
      ]
    },
    {
      "cell_type": "code",
      "metadata": {
        "id": "RiO1yUnGNKfF",
        "colab_type": "code",
        "colab": {
          "base_uri": "https://localhost:8080/",
          "height": 35
        },
        "outputId": "5a4a3d0e-af56-44b9-a32c-0ed5fe772606"
      },
      "source": [
        "l"
      ],
      "execution_count": 191,
      "outputs": [
        {
          "output_type": "execute_result",
          "data": {
            "text/plain": [
              "[1, 'one', 2.0, 'three']"
            ]
          },
          "metadata": {
            "tags": []
          },
          "execution_count": 191
        }
      ]
    },
    {
      "cell_type": "code",
      "metadata": {
        "id": "0mpGxsybNKai",
        "colab_type": "code",
        "colab": {
          "base_uri": "https://localhost:8080/",
          "height": 35
        },
        "outputId": "bed6f5b4-02e7-4110-9b7a-62a4c30ab2e5"
      },
      "source": [
        "l[0]"
      ],
      "execution_count": 192,
      "outputs": [
        {
          "output_type": "execute_result",
          "data": {
            "text/plain": [
              "1"
            ]
          },
          "metadata": {
            "tags": []
          },
          "execution_count": 192
        }
      ]
    },
    {
      "cell_type": "code",
      "metadata": {
        "id": "TjQkVGTXNKVC",
        "colab_type": "code",
        "colab": {
          "base_uri": "https://localhost:8080/",
          "height": 35
        },
        "outputId": "7ef506d1-5528-41b1-da86-76d0c20e3b24"
      },
      "source": [
        "l[1]"
      ],
      "execution_count": 193,
      "outputs": [
        {
          "output_type": "execute_result",
          "data": {
            "application/vnd.google.colaboratory.intrinsic+json": {
              "type": "string"
            },
            "text/plain": [
              "'one'"
            ]
          },
          "metadata": {
            "tags": []
          },
          "execution_count": 193
        }
      ]
    },
    {
      "cell_type": "code",
      "metadata": {
        "id": "BIplBYN5NKQx",
        "colab_type": "code",
        "colab": {
          "base_uri": "https://localhost:8080/",
          "height": 52
        },
        "outputId": "b4b79b83-2888-421b-9e97-2d238e0740c2"
      },
      "source": [
        "for i in l:\n",
        "  if type(i) == str:\n",
        "    print(i)"
      ],
      "execution_count": 199,
      "outputs": [
        {
          "output_type": "stream",
          "text": [
            "one\n",
            "three\n"
          ],
          "name": "stdout"
        }
      ]
    },
    {
      "cell_type": "code",
      "metadata": {
        "id": "CjBib_OxNKNr",
        "colab_type": "code",
        "colab": {
          "base_uri": "https://localhost:8080/",
          "height": 183
        },
        "outputId": "59c1463f-db1d-453f-c210-85d6d30e0865"
      },
      "source": [
        "for item in 2:\n",
        "  print(item)"
      ],
      "execution_count": 200,
      "outputs": [
        {
          "output_type": "error",
          "ename": "TypeError",
          "evalue": "ignored",
          "traceback": [
            "\u001b[0;31m---------------------------------------------------------------------------\u001b[0m",
            "\u001b[0;31mTypeError\u001b[0m                                 Traceback (most recent call last)",
            "\u001b[0;32m<ipython-input-200-42b2a6fcfb0b>\u001b[0m in \u001b[0;36m<module>\u001b[0;34m()\u001b[0m\n\u001b[0;32m----> 1\u001b[0;31m \u001b[0;32mfor\u001b[0m \u001b[0mitem\u001b[0m \u001b[0;32min\u001b[0m \u001b[0;36m2\u001b[0m\u001b[0;34m:\u001b[0m\u001b[0;34m\u001b[0m\u001b[0;34m\u001b[0m\u001b[0m\n\u001b[0m\u001b[1;32m      2\u001b[0m   \u001b[0mprint\u001b[0m\u001b[0;34m(\u001b[0m\u001b[0mitem\u001b[0m\u001b[0;34m)\u001b[0m\u001b[0;34m\u001b[0m\u001b[0;34m\u001b[0m\u001b[0m\n",
            "\u001b[0;31mTypeError\u001b[0m: 'int' object is not iterable"
          ]
        }
      ]
    },
    {
      "cell_type": "code",
      "metadata": {
        "id": "0WFRI_7eNKJ-",
        "colab_type": "code",
        "colab": {
          "base_uri": "https://localhost:8080/",
          "height": 35
        },
        "outputId": "c63fe9da-f6cc-4aa7-daf5-3f6cd86605ae"
      },
      "source": [
        "range(4)"
      ],
      "execution_count": 201,
      "outputs": [
        {
          "output_type": "execute_result",
          "data": {
            "text/plain": [
              "range(0, 4)"
            ]
          },
          "metadata": {
            "tags": []
          },
          "execution_count": 201
        }
      ]
    },
    {
      "cell_type": "code",
      "metadata": {
        "id": "3ohL3Qi8NKGw",
        "colab_type": "code",
        "colab": {
          "base_uri": "https://localhost:8080/",
          "height": 104
        },
        "outputId": "069c0e8e-d428-46e5-ecdd-2a83f9ae27c1"
      },
      "source": [
        "for item in range(5):\n",
        "  print(item)"
      ],
      "execution_count": 204,
      "outputs": [
        {
          "output_type": "stream",
          "text": [
            "0\n",
            "1\n",
            "2\n",
            "3\n",
            "4\n"
          ],
          "name": "stdout"
        }
      ]
    },
    {
      "cell_type": "code",
      "metadata": {
        "id": "tpBPGwQaNKDN",
        "colab_type": "code",
        "colab": {
          "base_uri": "https://localhost:8080/",
          "height": 87
        },
        "outputId": "54d719b7-a5e6-427c-9694-d15a10fd36c0"
      },
      "source": [
        "i=0\n",
        "while i < len(l):\n",
        "  print(l[i])\n",
        "  i=i+1"
      ],
      "execution_count": 207,
      "outputs": [
        {
          "output_type": "stream",
          "text": [
            "1\n",
            "one\n",
            "2.0\n",
            "three\n"
          ],
          "name": "stdout"
        }
      ]
    },
    {
      "cell_type": "code",
      "metadata": {
        "id": "kz2cdrqzNJ_J",
        "colab_type": "code",
        "colab": {
          "base_uri": "https://localhost:8080/",
          "height": 35
        },
        "outputId": "a8791631-e7ec-4db9-e2de-161d5247295f"
      },
      "source": [
        "len(l)"
      ],
      "execution_count": 208,
      "outputs": [
        {
          "output_type": "execute_result",
          "data": {
            "text/plain": [
              "4"
            ]
          },
          "metadata": {
            "tags": []
          },
          "execution_count": 208
        }
      ]
    },
    {
      "cell_type": "code",
      "metadata": {
        "id": "imJMTAcBNJ5s",
        "colab_type": "code",
        "colab": {}
      },
      "source": [
        ""
      ],
      "execution_count": null,
      "outputs": []
    },
    {
      "cell_type": "markdown",
      "metadata": {
        "id": "83s7LY39Qzyn",
        "colab_type": "text"
      },
      "source": [
        "## Lambda Method"
      ]
    },
    {
      "cell_type": "code",
      "metadata": {
        "id": "aKcWLTYPNJyP",
        "colab_type": "code",
        "colab": {}
      },
      "source": [
        "def method1(x):\n",
        "  x = x*2\n",
        "  print(x)"
      ],
      "execution_count": 209,
      "outputs": []
    },
    {
      "cell_type": "code",
      "metadata": {
        "id": "PlxPqepaNJIq",
        "colab_type": "code",
        "colab": {
          "base_uri": "https://localhost:8080/",
          "height": 35
        },
        "outputId": "88e387f1-e2d3-4d28-c8b0-c3073364765b"
      },
      "source": [
        "method1(4)"
      ],
      "execution_count": 210,
      "outputs": [
        {
          "output_type": "stream",
          "text": [
            "8\n"
          ],
          "name": "stdout"
        }
      ]
    },
    {
      "cell_type": "code",
      "metadata": {
        "id": "a-hH2y84NJFI",
        "colab_type": "code",
        "colab": {}
      },
      "source": [
        "def method2(x):\n",
        "  x = x**2\n",
        "  return x"
      ],
      "execution_count": 212,
      "outputs": []
    },
    {
      "cell_type": "code",
      "metadata": {
        "id": "ACJUCktUNJA2",
        "colab_type": "code",
        "colab": {
          "base_uri": "https://localhost:8080/",
          "height": 35
        },
        "outputId": "8dff51bc-9bcc-4af9-a2e1-306e1f0b7733"
      },
      "source": [
        "method2(5)"
      ],
      "execution_count": 213,
      "outputs": [
        {
          "output_type": "execute_result",
          "data": {
            "text/plain": [
              "25"
            ]
          },
          "metadata": {
            "tags": []
          },
          "execution_count": 213
        }
      ]
    },
    {
      "cell_type": "code",
      "metadata": {
        "id": "nfN4e1b7NI70",
        "colab_type": "code",
        "colab": {
          "base_uri": "https://localhost:8080/",
          "height": 35
        },
        "outputId": "2e706799-e845-417e-99fa-2eac4e405a0c"
      },
      "source": [
        "res1 = method1(4)"
      ],
      "execution_count": 214,
      "outputs": [
        {
          "output_type": "stream",
          "text": [
            "8\n"
          ],
          "name": "stdout"
        }
      ]
    },
    {
      "cell_type": "code",
      "metadata": {
        "id": "bzf6Lf0QNI4M",
        "colab_type": "code",
        "colab": {}
      },
      "source": [
        "res2 = method2(60)"
      ],
      "execution_count": 215,
      "outputs": []
    },
    {
      "cell_type": "code",
      "metadata": {
        "id": "ed_lAsi7NIrN",
        "colab_type": "code",
        "colab": {
          "base_uri": "https://localhost:8080/",
          "height": 35
        },
        "outputId": "cb2c908a-a641-43b7-c4b3-0cbfa625251a"
      },
      "source": [
        "res2"
      ],
      "execution_count": 216,
      "outputs": [
        {
          "output_type": "execute_result",
          "data": {
            "text/plain": [
              "3600"
            ]
          },
          "metadata": {
            "tags": []
          },
          "execution_count": 216
        }
      ]
    },
    {
      "cell_type": "code",
      "metadata": {
        "id": "kUhAP88CRkgM",
        "colab_type": "code",
        "colab": {}
      },
      "source": [
        "res1"
      ],
      "execution_count": 217,
      "outputs": []
    },
    {
      "cell_type": "code",
      "metadata": {
        "id": "lskyLcvPRn1a",
        "colab_type": "code",
        "colab": {}
      },
      "source": [
        ""
      ],
      "execution_count": null,
      "outputs": []
    },
    {
      "cell_type": "code",
      "metadata": {
        "id": "9c86d1yPRrGX",
        "colab_type": "code",
        "colab": {}
      },
      "source": [
        "x = lambda y: y**2"
      ],
      "execution_count": 218,
      "outputs": []
    },
    {
      "cell_type": "code",
      "metadata": {
        "id": "1lNt26AtRrgn",
        "colab_type": "code",
        "colab": {
          "base_uri": "https://localhost:8080/",
          "height": 35
        },
        "outputId": "814877c2-33b0-4808-a972-c90e2414bfba"
      },
      "source": [
        "x(10)"
      ],
      "execution_count": 219,
      "outputs": [
        {
          "output_type": "execute_result",
          "data": {
            "text/plain": [
              "100"
            ]
          },
          "metadata": {
            "tags": []
          },
          "execution_count": 219
        }
      ]
    },
    {
      "cell_type": "code",
      "metadata": {
        "id": "AcNPiiUqRrc4",
        "colab_type": "code",
        "colab": {}
      },
      "source": [
        "x = lambda a,b : a*b"
      ],
      "execution_count": 222,
      "outputs": []
    },
    {
      "cell_type": "code",
      "metadata": {
        "id": "fVTgveyhRrZZ",
        "colab_type": "code",
        "colab": {
          "base_uri": "https://localhost:8080/",
          "height": 35
        },
        "outputId": "4c9555f3-f4dd-4b84-95a2-ee145902ea4f"
      },
      "source": [
        "x(20,3)"
      ],
      "execution_count": 223,
      "outputs": [
        {
          "output_type": "execute_result",
          "data": {
            "text/plain": [
              "60"
            ]
          },
          "metadata": {
            "tags": []
          },
          "execution_count": 223
        }
      ]
    },
    {
      "cell_type": "code",
      "metadata": {
        "id": "N3GGemonRrU7",
        "colab_type": "code",
        "colab": {}
      },
      "source": [
        ""
      ],
      "execution_count": null,
      "outputs": []
    },
    {
      "cell_type": "code",
      "metadata": {
        "id": "CZ9ertvjRrRA",
        "colab_type": "code",
        "colab": {}
      },
      "source": [
        ""
      ],
      "execution_count": null,
      "outputs": []
    },
    {
      "cell_type": "code",
      "metadata": {
        "id": "qsAdPqtSRrMo",
        "colab_type": "code",
        "colab": {}
      },
      "source": [
        ""
      ],
      "execution_count": null,
      "outputs": []
    },
    {
      "cell_type": "code",
      "metadata": {
        "id": "MB7tGujnRq_T",
        "colab_type": "code",
        "colab": {}
      },
      "source": [
        ""
      ],
      "execution_count": null,
      "outputs": []
    }
  ]
}